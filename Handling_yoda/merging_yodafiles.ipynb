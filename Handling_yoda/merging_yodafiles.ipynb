{
 "cells": [
  {
   "cell_type": "code",
   "execution_count": 5,
   "id": "e0b73144",
   "metadata": {},
   "outputs": [],
   "source": [
    "import os\n",
    "import yoda\n",
    "\n",
    "def merge_yoda_files(directory, output_file):\n",
    "    # List all YODA files in the directory\n",
    "    files = [os.path.join(directory, f) for f in os.listdir(directory) if f.endswith('.yoda')]\n",
    "\n",
    "    # Initialize an empty dictionary to hold histograms\n",
    "    merged_histos = {}\n",
    "\n",
    "    # Loop over all YODA files and read histograms\n",
    "    for file in files:\n",
    "        histos = yoda.read(file)\n",
    "        \n",
    "        # Merge histograms into the dictionary\n",
    "        for path, histo in histos.items():\n",
    "            if path in merged_histos:\n",
    "                merged_histos[path] = _merge_histos(merged_histos[path], histo)\n",
    "            else:\n",
    "                merged_histos[path] = histo\n",
    "\n",
    "    # Write the merged histograms to the output file\n",
    "    yoda.write(merged_histos, output_file)\n",
    "\n",
    "def _merge_histos(histo1, histo2):\n",
    "    \"\"\"\n",
    "    Merges two YODA histograms of the same type.\n",
    "    \"\"\"\n",
    "    if isinstance(histo1, yoda.Histo1D) and isinstance(histo2, yoda.Histo1D):\n",
    "        histo1 += histo2\n",
    "    elif isinstance(histo1, yoda.Histo2D) and isinstance(histo2, yoda.Histo2D):\n",
    "        histo1 += histo2\n",
    "    elif isinstance(histo1, yoda.Profile1D) and isinstance(histo2, yoda.Profile1D):\n",
    "        histo1 += histo2\n",
    "    elif isinstance(histo1, yoda.Scatter1D) and isinstance(histo2, yoda.Scatter1D):\n",
    "        points1 = histo1.points()\n",
    "        points2 = histo2.points()\n",
    "        histo1.reset()\n",
    "        for p in points1 + points2:\n",
    "            histo1.addPoint(p.x(), p.y(), p.xErr(), p.yErr())\n",
    "    elif isinstance(histo1, yoda.Scatter2D) and isinstance(histo2, yoda.Scatter2D):\n",
    "        points1 = histo1.points()\n",
    "        points2 = histo2.points()\n",
    "        histo1.reset()\n",
    "        for p in points1 + points2:\n",
    "            histo1.addPoint(p.x(), p.y(), p.xErr(), p.yErr())\n",
    "    else:\n",
    "        raise TypeError(f\"Unsupported YODA object types: {type(histo1)} and {type(histo2)}\")\n",
    "    \n",
    "    return histo1"
   ]
  },
  {
   "cell_type": "code",
   "execution_count": 6,
   "id": "4f20d2e4",
   "metadata": {},
   "outputs": [
    {
     "ename": "TypeError",
     "evalue": "Unsupported YODA object types: <class 'yoda.core.Counter'> and <class 'yoda.core.Counter'>",
     "output_type": "error",
     "traceback": [
      "\u001b[0;31m---------------------------------------------------------------------------\u001b[0m",
      "\u001b[0;31mTypeError\u001b[0m                                 Traceback (most recent call last)",
      "\u001b[0;32m/tmp/ipykernel_391/1713876464.py\u001b[0m in \u001b[0;36m<module>\u001b[0;34m\u001b[0m\n\u001b[1;32m      1\u001b[0m \u001b[0mdirectory\u001b[0m \u001b[0;34m=\u001b[0m \u001b[0;34m'/eos/cms/store/group/phys_smp/vbfA/Mhossein_Rivet_test/GJets_SM_4f_TuneCP5_EWK_13TeV_amcatnlo-pythia8/crab_GJets_SM_4f_TuneCP5_EWK_2018/240526_183541/0000'\u001b[0m\u001b[0;34m\u001b[0m\u001b[0;34m\u001b[0m\u001b[0m\n\u001b[1;32m      2\u001b[0m \u001b[0moutput_file\u001b[0m \u001b[0;34m=\u001b[0m \u001b[0;34m'full_2018_with_weight.yoda'\u001b[0m\u001b[0;34m\u001b[0m\u001b[0;34m\u001b[0m\u001b[0m\n\u001b[0;32m----> 3\u001b[0;31m \u001b[0mmerge_yoda_files\u001b[0m\u001b[0;34m(\u001b[0m\u001b[0mdirectory\u001b[0m\u001b[0;34m,\u001b[0m \u001b[0moutput_file\u001b[0m\u001b[0;34m)\u001b[0m\u001b[0;34m\u001b[0m\u001b[0;34m\u001b[0m\u001b[0m\n\u001b[0m\u001b[1;32m      4\u001b[0m \u001b[0mprint\u001b[0m\u001b[0;34m(\u001b[0m\u001b[0;34mf\"All YODA files in {directory} have been merged into {output_file}\"\u001b[0m\u001b[0;34m)\u001b[0m\u001b[0;34m\u001b[0m\u001b[0;34m\u001b[0m\u001b[0m\n",
      "\u001b[0;32m/tmp/ipykernel_391/33406297.py\u001b[0m in \u001b[0;36mmerge_yoda_files\u001b[0;34m(directory, output_file)\u001b[0m\n\u001b[1;32m     16\u001b[0m         \u001b[0;32mfor\u001b[0m \u001b[0mpath\u001b[0m\u001b[0;34m,\u001b[0m \u001b[0mhisto\u001b[0m \u001b[0;32min\u001b[0m \u001b[0mhistos\u001b[0m\u001b[0;34m.\u001b[0m\u001b[0mitems\u001b[0m\u001b[0;34m(\u001b[0m\u001b[0;34m)\u001b[0m\u001b[0;34m:\u001b[0m\u001b[0;34m\u001b[0m\u001b[0;34m\u001b[0m\u001b[0m\n\u001b[1;32m     17\u001b[0m             \u001b[0;32mif\u001b[0m \u001b[0mpath\u001b[0m \u001b[0;32min\u001b[0m \u001b[0mmerged_histos\u001b[0m\u001b[0;34m:\u001b[0m\u001b[0;34m\u001b[0m\u001b[0;34m\u001b[0m\u001b[0m\n\u001b[0;32m---> 18\u001b[0;31m                 \u001b[0mmerged_histos\u001b[0m\u001b[0;34m[\u001b[0m\u001b[0mpath\u001b[0m\u001b[0;34m]\u001b[0m \u001b[0;34m=\u001b[0m \u001b[0m_merge_histos\u001b[0m\u001b[0;34m(\u001b[0m\u001b[0mmerged_histos\u001b[0m\u001b[0;34m[\u001b[0m\u001b[0mpath\u001b[0m\u001b[0;34m]\u001b[0m\u001b[0;34m,\u001b[0m \u001b[0mhisto\u001b[0m\u001b[0;34m)\u001b[0m\u001b[0;34m\u001b[0m\u001b[0;34m\u001b[0m\u001b[0m\n\u001b[0m\u001b[1;32m     19\u001b[0m             \u001b[0;32melse\u001b[0m\u001b[0;34m:\u001b[0m\u001b[0;34m\u001b[0m\u001b[0;34m\u001b[0m\u001b[0m\n\u001b[1;32m     20\u001b[0m                 \u001b[0mmerged_histos\u001b[0m\u001b[0;34m[\u001b[0m\u001b[0mpath\u001b[0m\u001b[0;34m]\u001b[0m \u001b[0;34m=\u001b[0m \u001b[0mhisto\u001b[0m\u001b[0;34m\u001b[0m\u001b[0;34m\u001b[0m\u001b[0m\n",
      "\u001b[0;32m/tmp/ipykernel_391/33406297.py\u001b[0m in \u001b[0;36m_merge_histos\u001b[0;34m(histo1, histo2)\u001b[0m\n\u001b[1;32m     46\u001b[0m             \u001b[0mhisto1\u001b[0m\u001b[0;34m.\u001b[0m\u001b[0maddPoint\u001b[0m\u001b[0;34m(\u001b[0m\u001b[0mp\u001b[0m\u001b[0;34m.\u001b[0m\u001b[0mx\u001b[0m\u001b[0;34m(\u001b[0m\u001b[0;34m)\u001b[0m\u001b[0;34m,\u001b[0m \u001b[0mp\u001b[0m\u001b[0;34m.\u001b[0m\u001b[0my\u001b[0m\u001b[0;34m(\u001b[0m\u001b[0;34m)\u001b[0m\u001b[0;34m,\u001b[0m \u001b[0mp\u001b[0m\u001b[0;34m.\u001b[0m\u001b[0mxErr\u001b[0m\u001b[0;34m(\u001b[0m\u001b[0;34m)\u001b[0m\u001b[0;34m,\u001b[0m \u001b[0mp\u001b[0m\u001b[0;34m.\u001b[0m\u001b[0myErr\u001b[0m\u001b[0;34m(\u001b[0m\u001b[0;34m)\u001b[0m\u001b[0;34m)\u001b[0m\u001b[0;34m\u001b[0m\u001b[0;34m\u001b[0m\u001b[0m\n\u001b[1;32m     47\u001b[0m     \u001b[0;32melse\u001b[0m\u001b[0;34m:\u001b[0m\u001b[0;34m\u001b[0m\u001b[0;34m\u001b[0m\u001b[0m\n\u001b[0;32m---> 48\u001b[0;31m         \u001b[0;32mraise\u001b[0m \u001b[0mTypeError\u001b[0m\u001b[0;34m(\u001b[0m\u001b[0;34mf\"Unsupported YODA object types: {type(histo1)} and {type(histo2)}\"\u001b[0m\u001b[0;34m)\u001b[0m\u001b[0;34m\u001b[0m\u001b[0;34m\u001b[0m\u001b[0m\n\u001b[0m\u001b[1;32m     49\u001b[0m \u001b[0;34m\u001b[0m\u001b[0m\n\u001b[1;32m     50\u001b[0m     \u001b[0;32mreturn\u001b[0m \u001b[0mhisto1\u001b[0m\u001b[0;34m\u001b[0m\u001b[0;34m\u001b[0m\u001b[0m\n",
      "\u001b[0;31mTypeError\u001b[0m: Unsupported YODA object types: <class 'yoda.core.Counter'> and <class 'yoda.core.Counter'>"
     ]
    }
   ],
   "source": [
    "directory = '/eos/cms/store/group/phys_smp/vbfA/Mhossein_Rivet_test/GJets_SM_4f_TuneCP5_EWK_13TeV_amcatnlo-pythia8/crab_GJets_SM_4f_TuneCP5_EWK_2018/240526_183541/0000'\n",
    "output_file = 'full_2018_with_weight.yoda'\n",
    "merge_yoda_files(directory, output_file)\n",
    "print(f\"All YODA files in {directory} have been merged into {output_file}\")"
   ]
  },
  {
   "cell_type": "code",
   "execution_count": null,
   "id": "c8c92ba3",
   "metadata": {},
   "outputs": [],
   "source": []
  }
 ],
 "metadata": {
  "kernelspec": {
   "display_name": "Python 3",
   "language": "python",
   "name": "python3"
  },
  "language_info": {
   "codemirror_mode": {
    "name": "ipython",
    "version": 3
   },
   "file_extension": ".py",
   "mimetype": "text/x-python",
   "name": "python",
   "nbconvert_exporter": "python",
   "pygments_lexer": "ipython3",
   "version": "3.9.12"
  }
 },
 "nbformat": 4,
 "nbformat_minor": 5
}
